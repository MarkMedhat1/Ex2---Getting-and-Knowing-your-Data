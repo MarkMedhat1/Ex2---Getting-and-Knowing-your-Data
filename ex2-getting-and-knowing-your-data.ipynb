{
 "cells": [
  {
   "cell_type": "markdown",
   "id": "bf353466",
   "metadata": {
    "papermill": {
     "duration": 0.012335,
     "end_time": "2024-03-17T20:36:12.233048",
     "exception": false,
     "start_time": "2024-03-17T20:36:12.220713",
     "status": "completed"
    },
    "tags": []
   },
   "source": [
    "# Ex2 - Getting and Knowing your Data"
   ]
  },
  {
   "cell_type": "markdown",
   "id": "ff310e7e",
   "metadata": {
    "papermill": {
     "duration": 0.011323,
     "end_time": "2024-03-17T20:36:12.256542",
     "exception": false,
     "start_time": "2024-03-17T20:36:12.245219",
     "status": "completed"
    },
    "tags": []
   },
   "source": [
    "This time we are going to pull data directly from the internet.\n",
    "Special thanks to: https://github.com/justmarkham for sharing the dataset and materials.\n",
    "\n",
    "### Step 1. Import the necessary libraries"
   ]
  },
  {
   "cell_type": "code",
   "execution_count": 1,
   "id": "73a5faf6",
   "metadata": {
    "execution": {
     "iopub.execute_input": "2024-03-17T20:36:12.281836Z",
     "iopub.status.busy": "2024-03-17T20:36:12.281358Z",
     "iopub.status.idle": "2024-03-17T20:36:13.229607Z",
     "shell.execute_reply": "2024-03-17T20:36:13.228384Z"
    },
    "papermill": {
     "duration": 0.964361,
     "end_time": "2024-03-17T20:36:13.232499",
     "exception": false,
     "start_time": "2024-03-17T20:36:12.268138",
     "status": "completed"
    },
    "tags": []
   },
   "outputs": [],
   "source": [
    "import pandas as pd\n",
    "\n"
   ]
  },
  {
   "cell_type": "markdown",
   "id": "d3ef1663",
   "metadata": {
    "papermill": {
     "duration": 0.011615,
     "end_time": "2024-03-17T20:36:13.255816",
     "exception": false,
     "start_time": "2024-03-17T20:36:13.244201",
     "status": "completed"
    },
    "tags": []
   },
   "source": [
    "### Step 2. Import the dataset from this [address](https://raw.githubusercontent.com/justmarkham/DAT8/master/data/chipotle.tsv). "
   ]
  },
  {
   "cell_type": "markdown",
   "id": "f4170a5f",
   "metadata": {
    "papermill": {
     "duration": 0.011229,
     "end_time": "2024-03-17T20:36:13.278599",
     "exception": false,
     "start_time": "2024-03-17T20:36:13.267370",
     "status": "completed"
    },
    "tags": []
   },
   "source": [
    "### Step 3. Assign it to a variable called chipo."
   ]
  },
  {
   "cell_type": "code",
   "execution_count": 2,
   "id": "e3529fc5",
   "metadata": {
    "execution": {
     "iopub.execute_input": "2024-03-17T20:36:13.303511Z",
     "iopub.status.busy": "2024-03-17T20:36:13.302990Z",
     "iopub.status.idle": "2024-03-17T20:36:13.552431Z",
     "shell.execute_reply": "2024-03-17T20:36:13.551009Z"
    },
    "papermill": {
     "duration": 0.265131,
     "end_time": "2024-03-17T20:36:13.555213",
     "exception": false,
     "start_time": "2024-03-17T20:36:13.290082",
     "status": "completed"
    },
    "tags": []
   },
   "outputs": [
    {
     "name": "stdout",
     "output_type": "stream",
     "text": [
      "   order_id  quantity                              item_name  \\\n",
      "0         1         1           Chips and Fresh Tomato Salsa   \n",
      "1         1         1                                   Izze   \n",
      "2         1         1                       Nantucket Nectar   \n",
      "3         1         1  Chips and Tomatillo-Green Chili Salsa   \n",
      "4         2         2                           Chicken Bowl   \n",
      "\n",
      "                                  choice_description item_price  \n",
      "0                                                NaN     $2.39   \n",
      "1                                       [Clementine]     $3.39   \n",
      "2                                            [Apple]     $3.39   \n",
      "3                                                NaN     $2.39   \n",
      "4  [Tomatillo-Red Chili Salsa (Hot), [Black Beans...    $16.98   \n"
     ]
    }
   ],
   "source": [
    "\n",
    "url = \"https://raw.githubusercontent.com/justmarkham/DAT8/master/data/chipotle.tsv\"\n",
    "\n",
    "\n",
    "df = pd.read_csv(url, sep='\\t')\n",
    "\n",
    "\n",
    "print(df.head())\n"
   ]
  },
  {
   "cell_type": "markdown",
   "id": "cfe2eee9",
   "metadata": {
    "papermill": {
     "duration": 0.011441,
     "end_time": "2024-03-17T20:36:13.578644",
     "exception": false,
     "start_time": "2024-03-17T20:36:13.567203",
     "status": "completed"
    },
    "tags": []
   },
   "source": [
    "### Step 4. See the first 10 entries"
   ]
  },
  {
   "cell_type": "code",
   "execution_count": 3,
   "id": "4e79612b",
   "metadata": {
    "execution": {
     "iopub.execute_input": "2024-03-17T20:36:13.604706Z",
     "iopub.status.busy": "2024-03-17T20:36:13.604274Z",
     "iopub.status.idle": "2024-03-17T20:36:13.614620Z",
     "shell.execute_reply": "2024-03-17T20:36:13.612648Z"
    },
    "papermill": {
     "duration": 0.025808,
     "end_time": "2024-03-17T20:36:13.617017",
     "exception": false,
     "start_time": "2024-03-17T20:36:13.591209",
     "status": "completed"
    },
    "tags": []
   },
   "outputs": [
    {
     "name": "stdout",
     "output_type": "stream",
     "text": [
      "   order_id  quantity                              item_name  \\\n",
      "0         1         1           Chips and Fresh Tomato Salsa   \n",
      "1         1         1                                   Izze   \n",
      "2         1         1                       Nantucket Nectar   \n",
      "3         1         1  Chips and Tomatillo-Green Chili Salsa   \n",
      "4         2         2                           Chicken Bowl   \n",
      "5         3         1                           Chicken Bowl   \n",
      "6         3         1                          Side of Chips   \n",
      "7         4         1                          Steak Burrito   \n",
      "8         4         1                       Steak Soft Tacos   \n",
      "9         5         1                          Steak Burrito   \n",
      "\n",
      "                                  choice_description item_price  \n",
      "0                                                NaN     $2.39   \n",
      "1                                       [Clementine]     $3.39   \n",
      "2                                            [Apple]     $3.39   \n",
      "3                                                NaN     $2.39   \n",
      "4  [Tomatillo-Red Chili Salsa (Hot), [Black Beans...    $16.98   \n",
      "5  [Fresh Tomato Salsa (Mild), [Rice, Cheese, Sou...    $10.98   \n",
      "6                                                NaN     $1.69   \n",
      "7  [Tomatillo Red Chili Salsa, [Fajita Vegetables...    $11.75   \n",
      "8  [Tomatillo Green Chili Salsa, [Pinto Beans, Ch...     $9.25   \n",
      "9  [Fresh Tomato Salsa, [Rice, Black Beans, Pinto...     $9.25   \n"
     ]
    }
   ],
   "source": [
    "print(df.head(10))"
   ]
  },
  {
   "cell_type": "markdown",
   "id": "81f36281",
   "metadata": {
    "papermill": {
     "duration": 0.01164,
     "end_time": "2024-03-17T20:36:13.640675",
     "exception": false,
     "start_time": "2024-03-17T20:36:13.629035",
     "status": "completed"
    },
    "tags": []
   },
   "source": [
    "### Step 5. What is the number of observations in the dataset?"
   ]
  },
  {
   "cell_type": "code",
   "execution_count": 4,
   "id": "6f48642d",
   "metadata": {
    "execution": {
     "iopub.execute_input": "2024-03-17T20:36:13.666199Z",
     "iopub.status.busy": "2024-03-17T20:36:13.665826Z",
     "iopub.status.idle": "2024-03-17T20:36:13.674211Z",
     "shell.execute_reply": "2024-03-17T20:36:13.673239Z"
    },
    "papermill": {
     "duration": 0.024422,
     "end_time": "2024-03-17T20:36:13.677046",
     "exception": false,
     "start_time": "2024-03-17T20:36:13.652624",
     "status": "completed"
    },
    "tags": []
   },
   "outputs": [
    {
     "data": {
      "text/plain": [
       "4622"
      ]
     },
     "execution_count": 4,
     "metadata": {},
     "output_type": "execute_result"
    }
   ],
   "source": [
    "# Solution 1\n",
    "num_observations = df.shape[0]\n",
    "num_observations"
   ]
  },
  {
   "cell_type": "code",
   "execution_count": 5,
   "id": "cc910db3",
   "metadata": {
    "execution": {
     "iopub.execute_input": "2024-03-17T20:36:13.704017Z",
     "iopub.status.busy": "2024-03-17T20:36:13.703525Z",
     "iopub.status.idle": "2024-03-17T20:36:13.711256Z",
     "shell.execute_reply": "2024-03-17T20:36:13.710243Z"
    },
    "papermill": {
     "duration": 0.024867,
     "end_time": "2024-03-17T20:36:13.714348",
     "exception": false,
     "start_time": "2024-03-17T20:36:13.689481",
     "status": "completed"
    },
    "tags": []
   },
   "outputs": [
    {
     "data": {
      "text/plain": [
       "4622"
      ]
     },
     "execution_count": 5,
     "metadata": {},
     "output_type": "execute_result"
    }
   ],
   "source": [
    "# Solution 2\n",
    "num_observations2 = len(df)\n",
    "num_observations2\n"
   ]
  },
  {
   "cell_type": "markdown",
   "id": "5b7b6569",
   "metadata": {
    "papermill": {
     "duration": 0.01216,
     "end_time": "2024-03-17T20:36:13.739130",
     "exception": false,
     "start_time": "2024-03-17T20:36:13.726970",
     "status": "completed"
    },
    "tags": []
   },
   "source": [
    "### Step 6. What is the number of columns in the dataset?"
   ]
  },
  {
   "cell_type": "code",
   "execution_count": 6,
   "id": "d85fddf0",
   "metadata": {
    "execution": {
     "iopub.execute_input": "2024-03-17T20:36:13.765699Z",
     "iopub.status.busy": "2024-03-17T20:36:13.765269Z",
     "iopub.status.idle": "2024-03-17T20:36:13.774101Z",
     "shell.execute_reply": "2024-03-17T20:36:13.772500Z"
    },
    "papermill": {
     "duration": 0.024914,
     "end_time": "2024-03-17T20:36:13.776519",
     "exception": false,
     "start_time": "2024-03-17T20:36:13.751605",
     "status": "completed"
    },
    "tags": []
   },
   "outputs": [
    {
     "data": {
      "text/plain": [
       "5"
      ]
     },
     "execution_count": 6,
     "metadata": {},
     "output_type": "execute_result"
    }
   ],
   "source": [
    "num_columns = df.shape[1]\n",
    "num_columns"
   ]
  },
  {
   "cell_type": "markdown",
   "id": "01cf3216",
   "metadata": {
    "papermill": {
     "duration": 0.012405,
     "end_time": "2024-03-17T20:36:13.801550",
     "exception": false,
     "start_time": "2024-03-17T20:36:13.789145",
     "status": "completed"
    },
    "tags": []
   },
   "source": [
    "### Step 7. Print the name of all the columns."
   ]
  },
  {
   "cell_type": "code",
   "execution_count": 7,
   "id": "2ad4b8dc",
   "metadata": {
    "execution": {
     "iopub.execute_input": "2024-03-17T20:36:13.828035Z",
     "iopub.status.busy": "2024-03-17T20:36:13.827668Z",
     "iopub.status.idle": "2024-03-17T20:36:13.834198Z",
     "shell.execute_reply": "2024-03-17T20:36:13.832884Z"
    },
    "papermill": {
     "duration": 0.022896,
     "end_time": "2024-03-17T20:36:13.836826",
     "exception": false,
     "start_time": "2024-03-17T20:36:13.813930",
     "status": "completed"
    },
    "tags": []
   },
   "outputs": [
    {
     "name": "stdout",
     "output_type": "stream",
     "text": [
      "Names of all the columns:\n",
      "order_id\n",
      "quantity\n",
      "item_name\n",
      "choice_description\n",
      "item_price\n"
     ]
    }
   ],
   "source": [
    "column_names = df.columns\n",
    "\n",
    "print(\"Names of all the columns:\")\n",
    "for column in column_names:\n",
    "    print(column)"
   ]
  },
  {
   "cell_type": "markdown",
   "id": "62f8d036",
   "metadata": {
    "papermill": {
     "duration": 0.012012,
     "end_time": "2024-03-17T20:36:13.861131",
     "exception": false,
     "start_time": "2024-03-17T20:36:13.849119",
     "status": "completed"
    },
    "tags": []
   },
   "source": [
    "### Step 8. How is the dataset indexed?"
   ]
  },
  {
   "cell_type": "code",
   "execution_count": 8,
   "id": "b4dac61a",
   "metadata": {
    "execution": {
     "iopub.execute_input": "2024-03-17T20:36:13.887654Z",
     "iopub.status.busy": "2024-03-17T20:36:13.887265Z",
     "iopub.status.idle": "2024-03-17T20:36:13.894428Z",
     "shell.execute_reply": "2024-03-17T20:36:13.893188Z"
    },
    "papermill": {
     "duration": 0.023511,
     "end_time": "2024-03-17T20:36:13.897173",
     "exception": false,
     "start_time": "2024-03-17T20:36:13.873662",
     "status": "completed"
    },
    "tags": []
   },
   "outputs": [
    {
     "data": {
      "text/plain": [
       "'RangeIndex'"
      ]
     },
     "execution_count": 8,
     "metadata": {},
     "output_type": "execute_result"
    }
   ],
   "source": [
    "index_type = type(df.index).__name__\n",
    "\n",
    "index_type"
   ]
  },
  {
   "cell_type": "code",
   "execution_count": 9,
   "id": "57b2bf9c",
   "metadata": {
    "execution": {
     "iopub.execute_input": "2024-03-17T20:36:13.926093Z",
     "iopub.status.busy": "2024-03-17T20:36:13.925390Z",
     "iopub.status.idle": "2024-03-17T20:36:13.931197Z",
     "shell.execute_reply": "2024-03-17T20:36:13.930052Z"
    },
    "papermill": {
     "duration": 0.023774,
     "end_time": "2024-03-17T20:36:13.933930",
     "exception": false,
     "start_time": "2024-03-17T20:36:13.910156",
     "status": "completed"
    },
    "tags": []
   },
   "outputs": [
    {
     "name": "stdout",
     "output_type": "stream",
     "text": [
      "RangeIndex(start=0, stop=4622, step=1)\n"
     ]
    }
   ],
   "source": [
    "print(df.index)"
   ]
  },
  {
   "cell_type": "markdown",
   "id": "b89382e9",
   "metadata": {
    "papermill": {
     "duration": 0.013282,
     "end_time": "2024-03-17T20:36:13.960520",
     "exception": false,
     "start_time": "2024-03-17T20:36:13.947238",
     "status": "completed"
    },
    "tags": []
   },
   "source": [
    "### Step 9. Which was the most-ordered item? "
   ]
  },
  {
   "cell_type": "code",
   "execution_count": 10,
   "id": "7677ad33",
   "metadata": {
    "execution": {
     "iopub.execute_input": "2024-03-17T20:36:13.990330Z",
     "iopub.status.busy": "2024-03-17T20:36:13.989487Z",
     "iopub.status.idle": "2024-03-17T20:36:14.010513Z",
     "shell.execute_reply": "2024-03-17T20:36:14.009012Z"
    },
    "papermill": {
     "duration": 0.038511,
     "end_time": "2024-03-17T20:36:14.013391",
     "exception": false,
     "start_time": "2024-03-17T20:36:13.974880",
     "status": "completed"
    },
    "tags": []
   },
   "outputs": [
    {
     "name": "stdout",
     "output_type": "stream",
     "text": [
      "The most-ordered item is: Chicken Bowl\n"
     ]
    }
   ],
   "source": [
    "item_quantities = df.groupby('item_name')['quantity'].sum()\n",
    "\n",
    "\n",
    "most_ordered_item = item_quantities.idxmax()\n",
    "\n",
    "print(\"The most-ordered item is:\", most_ordered_item)"
   ]
  },
  {
   "cell_type": "markdown",
   "id": "12988359",
   "metadata": {
    "papermill": {
     "duration": 0.013926,
     "end_time": "2024-03-17T20:36:14.040958",
     "exception": false,
     "start_time": "2024-03-17T20:36:14.027032",
     "status": "completed"
    },
    "tags": []
   },
   "source": [
    "### Step 10. For the most-ordered item, how many items were ordered?"
   ]
  },
  {
   "cell_type": "code",
   "execution_count": 11,
   "id": "96d2726f",
   "metadata": {
    "execution": {
     "iopub.execute_input": "2024-03-17T20:36:14.070233Z",
     "iopub.status.busy": "2024-03-17T20:36:14.069861Z",
     "iopub.status.idle": "2024-03-17T20:36:14.081534Z",
     "shell.execute_reply": "2024-03-17T20:36:14.079861Z"
    },
    "papermill": {
     "duration": 0.029187,
     "end_time": "2024-03-17T20:36:14.084126",
     "exception": false,
     "start_time": "2024-03-17T20:36:14.054939",
     "status": "completed"
    },
    "tags": []
   },
   "outputs": [
    {
     "name": "stdout",
     "output_type": "stream",
     "text": [
      "For the most-ordered item 'Chicken Bowl', 761 items were ordered.\n"
     ]
    }
   ],
   "source": [
    "\n",
    "item_quantities = df.groupby('item_name')['quantity'].sum()\n",
    "\n",
    "\n",
    "most_ordered_item = item_quantities.idxmax()\n",
    "\n",
    "\n",
    "num_items_ordered = item_quantities.max()\n",
    "\n",
    "print(\"For the most-ordered item '{}', {} items were ordered.\".format(most_ordered_item, num_items_ordered))"
   ]
  },
  {
   "cell_type": "markdown",
   "id": "ec5a23b0",
   "metadata": {
    "papermill": {
     "duration": 0.013458,
     "end_time": "2024-03-17T20:36:14.111620",
     "exception": false,
     "start_time": "2024-03-17T20:36:14.098162",
     "status": "completed"
    },
    "tags": []
   },
   "source": [
    "### Step 11. What was the most ordered item in the choice_description column?"
   ]
  },
  {
   "cell_type": "code",
   "execution_count": 12,
   "id": "be1ee459",
   "metadata": {
    "execution": {
     "iopub.execute_input": "2024-03-17T20:36:14.140496Z",
     "iopub.status.busy": "2024-03-17T20:36:14.140025Z",
     "iopub.status.idle": "2024-03-17T20:36:14.155247Z",
     "shell.execute_reply": "2024-03-17T20:36:14.154230Z"
    },
    "papermill": {
     "duration": 0.032285,
     "end_time": "2024-03-17T20:36:14.157380",
     "exception": false,
     "start_time": "2024-03-17T20:36:14.125095",
     "status": "completed"
    },
    "tags": []
   },
   "outputs": [
    {
     "name": "stdout",
     "output_type": "stream",
     "text": [
      "[Diet Coke]\n"
     ]
    },
    {
     "data": {
      "text/plain": [
       "159"
      ]
     },
     "execution_count": 12,
     "metadata": {},
     "output_type": "execute_result"
    }
   ],
   "source": [
    "\n",
    "choice_quantities = df.groupby('choice_description')['quantity'].sum()\n",
    "most_ordered_choice = choice_quantities.idxmax()\n",
    "\n",
    "num_items_ordered = choice_quantities.max()\n",
    "\n",
    "print(most_ordered_choice)\n",
    "num_items_ordered"
   ]
  },
  {
   "cell_type": "markdown",
   "id": "390046c5",
   "metadata": {
    "papermill": {
     "duration": 0.013338,
     "end_time": "2024-03-17T20:36:14.184309",
     "exception": false,
     "start_time": "2024-03-17T20:36:14.170971",
     "status": "completed"
    },
    "tags": []
   },
   "source": [
    "### Step 12. How many items were orderd in total?"
   ]
  },
  {
   "cell_type": "code",
   "execution_count": 13,
   "id": "a2f6207c",
   "metadata": {
    "execution": {
     "iopub.execute_input": "2024-03-17T20:36:14.214773Z",
     "iopub.status.busy": "2024-03-17T20:36:14.214325Z",
     "iopub.status.idle": "2024-03-17T20:36:14.221348Z",
     "shell.execute_reply": "2024-03-17T20:36:14.220480Z"
    },
    "papermill": {
     "duration": 0.026711,
     "end_time": "2024-03-17T20:36:14.224801",
     "exception": false,
     "start_time": "2024-03-17T20:36:14.198090",
     "status": "completed"
    },
    "tags": []
   },
   "outputs": [
    {
     "data": {
      "text/plain": [
       "4972"
      ]
     },
     "execution_count": 13,
     "metadata": {},
     "output_type": "execute_result"
    }
   ],
   "source": [
    "total_items_ordered = df['quantity'].sum()\n",
    "\n",
    "total_items_ordered"
   ]
  },
  {
   "cell_type": "markdown",
   "id": "ec8ed7a9",
   "metadata": {
    "papermill": {
     "duration": 0.013767,
     "end_time": "2024-03-17T20:36:14.253744",
     "exception": false,
     "start_time": "2024-03-17T20:36:14.239977",
     "status": "completed"
    },
    "tags": []
   },
   "source": [
    "### Step 13. Turn the item price into a float"
   ]
  },
  {
   "cell_type": "markdown",
   "id": "54875542",
   "metadata": {
    "papermill": {
     "duration": 0.013359,
     "end_time": "2024-03-17T20:36:14.281019",
     "exception": false,
     "start_time": "2024-03-17T20:36:14.267660",
     "status": "completed"
    },
    "tags": []
   },
   "source": [
    "#### Step 13.a. Check the item price type"
   ]
  },
  {
   "cell_type": "code",
   "execution_count": 14,
   "id": "4c165d9f",
   "metadata": {
    "execution": {
     "iopub.execute_input": "2024-03-17T20:36:14.310818Z",
     "iopub.status.busy": "2024-03-17T20:36:14.310145Z",
     "iopub.status.idle": "2024-03-17T20:36:14.316393Z",
     "shell.execute_reply": "2024-03-17T20:36:14.315602Z"
    },
    "papermill": {
     "duration": 0.024629,
     "end_time": "2024-03-17T20:36:14.319563",
     "exception": false,
     "start_time": "2024-03-17T20:36:14.294934",
     "status": "completed"
    },
    "tags": []
   },
   "outputs": [
    {
     "data": {
      "text/plain": [
       "dtype('O')"
      ]
     },
     "execution_count": 14,
     "metadata": {},
     "output_type": "execute_result"
    }
   ],
   "source": [
    "item_price_type = df['item_price'].dtype\n",
    "item_price_type"
   ]
  },
  {
   "cell_type": "markdown",
   "id": "235e061f",
   "metadata": {
    "papermill": {
     "duration": 0.016376,
     "end_time": "2024-03-17T20:36:14.350788",
     "exception": false,
     "start_time": "2024-03-17T20:36:14.334412",
     "status": "completed"
    },
    "tags": []
   },
   "source": [
    "#### Step 13.b. Create a lambda function and change the type of item price"
   ]
  },
  {
   "cell_type": "code",
   "execution_count": 15,
   "id": "02b00c2f",
   "metadata": {
    "execution": {
     "iopub.execute_input": "2024-03-17T20:36:14.382848Z",
     "iopub.status.busy": "2024-03-17T20:36:14.381985Z",
     "iopub.status.idle": "2024-03-17T20:36:14.394106Z",
     "shell.execute_reply": "2024-03-17T20:36:14.392313Z"
    },
    "papermill": {
     "duration": 0.03121,
     "end_time": "2024-03-17T20:36:14.396987",
     "exception": false,
     "start_time": "2024-03-17T20:36:14.365777",
     "status": "completed"
    },
    "tags": []
   },
   "outputs": [
    {
     "name": "stdout",
     "output_type": "stream",
     "text": [
      "Data type of the 'item_price' column after conversion: float64\n"
     ]
    }
   ],
   "source": [
    "df['item_price'] = df['item_price'].apply(lambda x: float(x.replace('$', '')))\n",
    "\n",
    "\n",
    "item_price_type = df['item_price'].dtype\n",
    "\n",
    "print(\"Data type of the 'item_price' column after conversion:\", item_price_type)"
   ]
  },
  {
   "cell_type": "markdown",
   "id": "a7f42ab3",
   "metadata": {
    "papermill": {
     "duration": 0.013877,
     "end_time": "2024-03-17T20:36:14.425087",
     "exception": false,
     "start_time": "2024-03-17T20:36:14.411210",
     "status": "completed"
    },
    "tags": []
   },
   "source": [
    "#### Step 13.c. Check the item price type"
   ]
  },
  {
   "cell_type": "code",
   "execution_count": 16,
   "id": "d7fd7c4d",
   "metadata": {
    "execution": {
     "iopub.execute_input": "2024-03-17T20:36:14.456906Z",
     "iopub.status.busy": "2024-03-17T20:36:14.456482Z",
     "iopub.status.idle": "2024-03-17T20:36:14.464122Z",
     "shell.execute_reply": "2024-03-17T20:36:14.462666Z"
    },
    "papermill": {
     "duration": 0.027247,
     "end_time": "2024-03-17T20:36:14.466949",
     "exception": false,
     "start_time": "2024-03-17T20:36:14.439702",
     "status": "completed"
    },
    "tags": []
   },
   "outputs": [
    {
     "data": {
      "text/plain": [
       "dtype('float64')"
      ]
     },
     "execution_count": 16,
     "metadata": {},
     "output_type": "execute_result"
    }
   ],
   "source": [
    "type= df['item_price'].dtype\n",
    "type"
   ]
  },
  {
   "cell_type": "markdown",
   "id": "65692869",
   "metadata": {
    "papermill": {
     "duration": 0.013302,
     "end_time": "2024-03-17T20:36:14.494250",
     "exception": false,
     "start_time": "2024-03-17T20:36:14.480948",
     "status": "completed"
    },
    "tags": []
   },
   "source": [
    "### Step 14. How much was the revenue for the period in the dataset?"
   ]
  },
  {
   "cell_type": "code",
   "execution_count": 17,
   "id": "c1f1f221",
   "metadata": {
    "execution": {
     "iopub.execute_input": "2024-03-17T20:36:14.523494Z",
     "iopub.status.busy": "2024-03-17T20:36:14.523033Z",
     "iopub.status.idle": "2024-03-17T20:36:14.530697Z",
     "shell.execute_reply": "2024-03-17T20:36:14.529171Z"
    },
    "papermill": {
     "duration": 0.025869,
     "end_time": "2024-03-17T20:36:14.533820",
     "exception": false,
     "start_time": "2024-03-17T20:36:14.507951",
     "status": "completed"
    },
    "tags": []
   },
   "outputs": [
    {
     "name": "stdout",
     "output_type": "stream",
     "text": [
      "Total revenue for the period: 39237.02\n"
     ]
    }
   ],
   "source": [
    "\n",
    "revenue = (df['quantity'] * df['item_price']).sum()\n",
    "\n",
    "print(\"Total revenue for the period:\", revenue)"
   ]
  },
  {
   "cell_type": "markdown",
   "id": "6ca3b229",
   "metadata": {
    "papermill": {
     "duration": 0.013759,
     "end_time": "2024-03-17T20:36:14.561747",
     "exception": false,
     "start_time": "2024-03-17T20:36:14.547988",
     "status": "completed"
    },
    "tags": []
   },
   "source": [
    "### Step 15. How many orders were made in the period?"
   ]
  },
  {
   "cell_type": "code",
   "execution_count": 18,
   "id": "bac9a254",
   "metadata": {
    "execution": {
     "iopub.execute_input": "2024-03-17T20:36:14.592609Z",
     "iopub.status.busy": "2024-03-17T20:36:14.592135Z",
     "iopub.status.idle": "2024-03-17T20:36:14.602316Z",
     "shell.execute_reply": "2024-03-17T20:36:14.601197Z"
    },
    "papermill": {
     "duration": 0.029085,
     "end_time": "2024-03-17T20:36:14.605322",
     "exception": false,
     "start_time": "2024-03-17T20:36:14.576237",
     "status": "completed"
    },
    "tags": []
   },
   "outputs": [
    {
     "data": {
      "text/plain": [
       "1834"
      ]
     },
     "execution_count": 18,
     "metadata": {},
     "output_type": "execute_result"
    }
   ],
   "source": [
    "num_orders = df['order_id'].nunique()\n",
    "num_orders"
   ]
  },
  {
   "cell_type": "markdown",
   "id": "94830adf",
   "metadata": {
    "papermill": {
     "duration": 0.014564,
     "end_time": "2024-03-17T20:36:14.636865",
     "exception": false,
     "start_time": "2024-03-17T20:36:14.622301",
     "status": "completed"
    },
    "tags": []
   },
   "source": [
    "### Step 16. What is the average revenue amount per order?"
   ]
  },
  {
   "cell_type": "code",
   "execution_count": 19,
   "id": "932553fe",
   "metadata": {
    "execution": {
     "iopub.execute_input": "2024-03-17T20:36:14.668509Z",
     "iopub.status.busy": "2024-03-17T20:36:14.668036Z",
     "iopub.status.idle": "2024-03-17T20:36:14.674841Z",
     "shell.execute_reply": "2024-03-17T20:36:14.674024Z"
    },
    "papermill": {
     "duration": 0.025792,
     "end_time": "2024-03-17T20:36:14.677314",
     "exception": false,
     "start_time": "2024-03-17T20:36:14.651522",
     "status": "completed"
    },
    "tags": []
   },
   "outputs": [
    {
     "data": {
      "text/plain": [
       "21.39423118865867"
      ]
     },
     "execution_count": 19,
     "metadata": {},
     "output_type": "execute_result"
    }
   ],
   "source": [
    "average_revenue_per_order = revenue / num_orders\n",
    "average_revenue_per_order"
   ]
  },
  {
   "cell_type": "code",
   "execution_count": 20,
   "id": "1960e088",
   "metadata": {
    "execution": {
     "iopub.execute_input": "2024-03-17T20:36:14.708481Z",
     "iopub.status.busy": "2024-03-17T20:36:14.708083Z",
     "iopub.status.idle": "2024-03-17T20:36:15.434281Z",
     "shell.execute_reply": "2024-03-17T20:36:15.432937Z"
    },
    "papermill": {
     "duration": 0.744016,
     "end_time": "2024-03-17T20:36:15.435975",
     "exception": true,
     "start_time": "2024-03-17T20:36:14.691959",
     "status": "failed"
    },
    "tags": []
   },
   "outputs": [
    {
     "ename": "KeyError",
     "evalue": "'Column not found: revenue'",
     "output_type": "error",
     "traceback": [
      "\u001b[0;31m---------------------------------------------------------------------------\u001b[0m",
      "\u001b[0;31mKeyError\u001b[0m                                  Traceback (most recent call last)",
      "Cell \u001b[0;32mIn[20], line 1\u001b[0m\n\u001b[0;32m----> 1\u001b[0m order_revenue \u001b[38;5;241m=\u001b[39m \u001b[43mdf\u001b[49m\u001b[38;5;241;43m.\u001b[39;49m\u001b[43mgroupby\u001b[49m\u001b[43m(\u001b[49m\u001b[38;5;124;43m'\u001b[39;49m\u001b[38;5;124;43morder_id\u001b[39;49m\u001b[38;5;124;43m'\u001b[39;49m\u001b[43m)\u001b[49m\u001b[43m[\u001b[49m\u001b[38;5;124;43m'\u001b[39;49m\u001b[38;5;124;43mrevenue\u001b[39;49m\u001b[38;5;124;43m'\u001b[39;49m\u001b[43m]\u001b[49m\u001b[38;5;241m.\u001b[39msum()\n\u001b[1;32m      4\u001b[0m average_revenue_per_order \u001b[38;5;241m=\u001b[39m order_revenue\u001b[38;5;241m.\u001b[39mmean()\n",
      "File \u001b[0;32m/opt/conda/lib/python3.10/site-packages/pandas/core/groupby/generic.py:1951\u001b[0m, in \u001b[0;36mDataFrameGroupBy.__getitem__\u001b[0;34m(self, key)\u001b[0m\n\u001b[1;32m   1944\u001b[0m \u001b[38;5;28;01mif\u001b[39;00m \u001b[38;5;28misinstance\u001b[39m(key, \u001b[38;5;28mtuple\u001b[39m) \u001b[38;5;129;01mand\u001b[39;00m \u001b[38;5;28mlen\u001b[39m(key) \u001b[38;5;241m>\u001b[39m \u001b[38;5;241m1\u001b[39m:\n\u001b[1;32m   1945\u001b[0m     \u001b[38;5;66;03m# if len == 1, then it becomes a SeriesGroupBy and this is actually\u001b[39;00m\n\u001b[1;32m   1946\u001b[0m     \u001b[38;5;66;03m# valid syntax, so don't raise\u001b[39;00m\n\u001b[1;32m   1947\u001b[0m     \u001b[38;5;28;01mraise\u001b[39;00m \u001b[38;5;167;01mValueError\u001b[39;00m(\n\u001b[1;32m   1948\u001b[0m         \u001b[38;5;124m\"\u001b[39m\u001b[38;5;124mCannot subset columns with a tuple with more than one element. \u001b[39m\u001b[38;5;124m\"\u001b[39m\n\u001b[1;32m   1949\u001b[0m         \u001b[38;5;124m\"\u001b[39m\u001b[38;5;124mUse a list instead.\u001b[39m\u001b[38;5;124m\"\u001b[39m\n\u001b[1;32m   1950\u001b[0m     )\n\u001b[0;32m-> 1951\u001b[0m \u001b[38;5;28;01mreturn\u001b[39;00m \u001b[38;5;28;43msuper\u001b[39;49m\u001b[43m(\u001b[49m\u001b[43m)\u001b[49m\u001b[38;5;241;43m.\u001b[39;49m\u001b[38;5;21;43m__getitem__\u001b[39;49m\u001b[43m(\u001b[49m\u001b[43mkey\u001b[49m\u001b[43m)\u001b[49m\n",
      "File \u001b[0;32m/opt/conda/lib/python3.10/site-packages/pandas/core/base.py:244\u001b[0m, in \u001b[0;36mSelectionMixin.__getitem__\u001b[0;34m(self, key)\u001b[0m\n\u001b[1;32m    242\u001b[0m \u001b[38;5;28;01melse\u001b[39;00m:\n\u001b[1;32m    243\u001b[0m     \u001b[38;5;28;01mif\u001b[39;00m key \u001b[38;5;129;01mnot\u001b[39;00m \u001b[38;5;129;01min\u001b[39;00m \u001b[38;5;28mself\u001b[39m\u001b[38;5;241m.\u001b[39mobj:\n\u001b[0;32m--> 244\u001b[0m         \u001b[38;5;28;01mraise\u001b[39;00m \u001b[38;5;167;01mKeyError\u001b[39;00m(\u001b[38;5;124mf\u001b[39m\u001b[38;5;124m\"\u001b[39m\u001b[38;5;124mColumn not found: \u001b[39m\u001b[38;5;132;01m{\u001b[39;00mkey\u001b[38;5;132;01m}\u001b[39;00m\u001b[38;5;124m\"\u001b[39m)\n\u001b[1;32m    245\u001b[0m     ndim \u001b[38;5;241m=\u001b[39m \u001b[38;5;28mself\u001b[39m\u001b[38;5;241m.\u001b[39mobj[key]\u001b[38;5;241m.\u001b[39mndim\n\u001b[1;32m    246\u001b[0m     \u001b[38;5;28;01mreturn\u001b[39;00m \u001b[38;5;28mself\u001b[39m\u001b[38;5;241m.\u001b[39m_gotitem(key, ndim\u001b[38;5;241m=\u001b[39mndim)\n",
      "\u001b[0;31mKeyError\u001b[0m: 'Column not found: revenue'"
     ]
    }
   ],
   "source": [
    "order_revenue = df.groupby('order_id')['revenue'].sum()\n",
    "\n",
    "\n",
    "average_revenue_per_order = order_revenue.mean()"
   ]
  },
  {
   "cell_type": "markdown",
   "id": "2d63ed3c",
   "metadata": {
    "papermill": {
     "duration": null,
     "end_time": null,
     "exception": null,
     "start_time": null,
     "status": "pending"
    },
    "tags": []
   },
   "source": [
    "### Step 17. How many different items are sold?"
   ]
  },
  {
   "cell_type": "code",
   "execution_count": null,
   "id": "13bdb846",
   "metadata": {
    "execution": {
     "iopub.execute_input": "2024-03-17T20:35:23.404355Z",
     "iopub.status.busy": "2024-03-17T20:35:23.403891Z",
     "iopub.status.idle": "2024-03-17T20:35:23.414646Z",
     "shell.execute_reply": "2024-03-17T20:35:23.413433Z",
     "shell.execute_reply.started": "2024-03-17T20:35:23.404322Z"
    },
    "papermill": {
     "duration": null,
     "end_time": null,
     "exception": null,
     "start_time": null,
     "status": "pending"
    },
    "tags": []
   },
   "outputs": [],
   "source": [
    "num_unique_items = df['item_name'].nunique()\n",
    "\n",
    "num_unique_items"
   ]
  },
  {
   "cell_type": "code",
   "execution_count": null,
   "id": "a3ab920f",
   "metadata": {
    "papermill": {
     "duration": null,
     "end_time": null,
     "exception": null,
     "start_time": null,
     "status": "pending"
    },
    "tags": []
   },
   "outputs": [],
   "source": []
  }
 ],
 "metadata": {
  "anaconda-cloud": {},
  "kaggle": {
   "accelerator": "none",
   "dataSources": [],
   "dockerImageVersionId": 30664,
   "isGpuEnabled": false,
   "isInternetEnabled": true,
   "language": "python",
   "sourceType": "notebook"
  },
  "kernelspec": {
   "display_name": "Python 3",
   "language": "python",
   "name": "python3"
  },
  "language_info": {
   "codemirror_mode": {
    "name": "ipython",
    "version": 3
   },
   "file_extension": ".py",
   "mimetype": "text/x-python",
   "name": "python",
   "nbconvert_exporter": "python",
   "pygments_lexer": "ipython3",
   "version": "3.10.13"
  },
  "papermill": {
   "default_parameters": {},
   "duration": 7.042134,
   "end_time": "2024-03-17T20:36:16.074643",
   "environment_variables": {},
   "exception": true,
   "input_path": "__notebook__.ipynb",
   "output_path": "__notebook__.ipynb",
   "parameters": {},
   "start_time": "2024-03-17T20:36:09.032509",
   "version": "2.5.0"
  }
 },
 "nbformat": 4,
 "nbformat_minor": 5
}
